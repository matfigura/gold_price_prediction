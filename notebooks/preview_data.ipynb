{
 "cells": [
  {
   "cell_type": "code",
   "execution_count": 1,
   "id": "2d1d6ed2",
   "metadata": {},
   "outputs": [
    {
     "name": "stdout",
     "output_type": "stream",
     "text": [
      "Katalog roboczy: c:\\Users\\mateu\\OneDrive\\Desktop\\gold_price_prediction\n",
      "               Date   Open   High    Low  Close  Volume\n",
      "0  2004.06.11 00:00  384.0  384.8  382.8  384.1     272\n",
      "1  2004.06.14 00:00  384.3  385.8  381.8  382.8    1902\n",
      "2  2004.06.15 00:00  382.8  388.8  381.1  388.6    1951\n",
      "3  2004.06.16 00:00  387.1  389.8  382.6  383.8    2014\n",
      "4  2004.06.17 00:00  383.6  389.3  383.0  387.6    1568\n",
      "Index(['Date', 'Open', 'High', 'Low', 'Close', 'Volume'], dtype='object')\n",
      "<class 'pandas.core.frame.DataFrame'>\n",
      "RangeIndex: 5295 entries, 0 to 5294\n",
      "Data columns (total 6 columns):\n",
      " #   Column  Non-Null Count  Dtype  \n",
      "---  ------  --------------  -----  \n",
      " 0   Date    5295 non-null   object \n",
      " 1   Open    5295 non-null   float64\n",
      " 2   High    5295 non-null   float64\n",
      " 3   Low     5295 non-null   float64\n",
      " 4   Close   5295 non-null   float64\n",
      " 5   Volume  5295 non-null   int64  \n",
      "dtypes: float64(4), int64(1), object(1)\n",
      "memory usage: 248.3+ KB\n",
      "None\n"
     ]
    }
   ],
   "source": [
    "import os\n",
    "os.chdir(\"..\")\n",
    "import pandas as pd\n",
    "\n",
    "print(\"Katalog roboczy:\", os.getcwd())\n",
    "\n",
    "df = pd.read_csv(\"data/gold_data.csv\", sep=\";\")\n",
    "print(df.head())         # 5 pierwszych wierszy\n",
    "print(df.columns)        # nazwy kolumn\n",
    "print(df.info())         # typy danych i brakujące wartości"
   ]
  },
  {
   "cell_type": "code",
   "execution_count": null,
   "id": "0c499d97",
   "metadata": {},
   "outputs": [],
   "source": []
  }
 ],
 "metadata": {
  "kernelspec": {
   "display_name": ".venv",
   "language": "python",
   "name": "python3"
  },
  "language_info": {
   "codemirror_mode": {
    "name": "ipython",
    "version": 3
   },
   "file_extension": ".py",
   "mimetype": "text/x-python",
   "name": "python",
   "nbconvert_exporter": "python",
   "pygments_lexer": "ipython3",
   "version": "3.12.6"
  }
 },
 "nbformat": 4,
 "nbformat_minor": 5
}
